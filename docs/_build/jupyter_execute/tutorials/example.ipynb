{
 "cells": [
  {
   "cell_type": "markdown",
   "id": "dfb756137b6e0efe",
   "metadata": {
    "collapsed": false
   },
   "source": [
    "# Portable application framework\n",
    "In this notebook a tutorial on how to use the portable application framework is presented.\n",
    "The framework is based on the principle that, to build portable applications based on ontologies schema (Brick in this case), the following main steps are sufficient:\n",
    "- The validation of the metadata requirements of the application using the SHACL shapes framework.\n",
    "- The query step to fetch the data from the graph.\n",
    "- The analysis step to analyze the data and store the results.\n",
    "\n",
    "*Continue*\n",
    "\n",
    "\n"
   ]
  },
  {
   "cell_type": "code",
   "execution_count": 1,
   "id": "1458701a0c42f662",
   "metadata": {
    "ExecuteTime": {
     "end_time": "2024-02-14T10:58:51.715312800Z",
     "start_time": "2024-02-14T10:58:51.674389200Z"
    },
    "collapsed": false
   },
   "outputs": [],
   "source": [
    "# import os\n",
    "# import brickschema\n",
    "# from app.utils.util import ensure_dir, list_files\n",
    "# from app.utils.util_driver import driver_data_fetch\n",
    "# from app import Application\n",
    "# from app.utils.util_check import check_sensor, check_log_result"
   ]
  },
  {
   "cell_type": "code",
   "execution_count": 2,
   "id": "54df11caa3781580",
   "metadata": {
    "ExecuteTime": {
     "end_time": "2024-02-14T10:58:51.715312800Z",
     "start_time": "2024-02-14T10:58:51.674389200Z"
    },
    "collapsed": false
   },
   "outputs": [],
   "source": [
    "# folder = os.path.join(\"data\", \"LBNL_FDD_Dataset_SDAHU_PQ\")\n",
    "# ensure_dir(folder)\n",
    "# files = list_files(folder, file_formats=[\".csv\", \".parquet\"])"
   ]
  },
  {
   "cell_type": "markdown",
   "id": "9620fecf1cda5073",
   "metadata": {
    "collapsed": false
   },
   "source": [
    "## Data fetching and graph instantiation\n",
    "To use the application, two main inputs are needed: \n",
    "- The Turtle file containing the graph;\n",
    "- A dataframe to analyze;\n",
    "- (optional) A configuration file if is needed in the analyze function (to make it more parametric)."
   ]
  },
  {
   "cell_type": "code",
   "execution_count": 3,
   "id": "4ef8cb79c17f6018",
   "metadata": {
    "ExecuteTime": {
     "end_time": "2024-02-14T10:58:52.254148700Z",
     "start_time": "2024-02-14T10:58:51.688010400Z"
    },
    "collapsed": false
   },
   "outputs": [],
   "source": [
    "# datasource = \"AHU_annual\"\n",
    "# df = driver_data_fetch(folder, \"AHU_annual.parquet\")\n",
    "# graph = brickschema.Graph().parse(\n",
    "#         os.path.join(\"data\", \"LBNL_FDD_Dataset_SDAHU\", \"LBNL_FDD_Data_Sets_SDAHU_ttl.ttl\"))\n",
    "# config = {\n",
    "#             'datasource': datasource,\n",
    "#             'aggregation': 15,\n",
    "#             'transient_cutoff': 0.01,\n",
    "#             'valves_cutoff': 0.01,\n",
    "#             'damper_cutoff': 0.0,\n",
    "#             'temperature_error': 1,\n",
    "#             'temperature_sensor_variance_threshold': 0.01,\n",
    "#             'control_sensor_variance_threshold': 0.01,\n",
    "#             'damper_min_oa_threshold': 0.3,\n",
    "#             'diff_damper_oaf_threshold': 0.3,\n",
    "#             'sat_reset_threshold': 0.1\n",
    "#         }\n",
    "# df.head()"
   ]
  },
  {
   "cell_type": "markdown",
   "id": "cade14e0aa5c9460",
   "metadata": {
    "collapsed": false
   },
   "source": [
    "## Application instantiation\n",
    "\n",
    "To create an application, from the command line the following command is used:\n",
    "```bash\n",
    "\n",
    "```\n",
    "This command will create a folder with the name of the application and the necessary files to run the application, which are:\n",
    "\n",
    "- *config.yaml*: a configuration file with details of the application such as name, author, description, etc...\n",
    "- *manifest.ttl*: the file containing the metadata requirements of the application in form of SHACL shapes.\n",
    "- *query.rq*: the file containing the SPARQL query to be executed on the graph.\n",
    "- *README.md*: a file containing the description of the application for documentation purposes.\n",
    "- *analyze.py* (in the future): the function to be executed on the dataframe.\n",
    "- *cleaning.py* (in the future): the function to be executed on the dataframe to clean and pre-process it.\n",
    "\n",
    "Once this file are created and customized based on the application needs, the application can be instantiated and the data can be fetched and analyzed.\n",
    "\n",
    "In the main code, are just needed the following lines of code:\n",
    "```python\n",
    "from app import Application\n",
    "app = Application(data=df, metadata=graph, app_name='app_name')\n",
    "app.qualify()\n",
    "app.fetch()\n",
    "app.analyze(query, app.res, config)\n",
    "```\n",
    "Where:\n",
    "- app.qualify() will check if the graph has the necessary metadata to run the application.\n",
    "- app.fetch() will query the graph and fetch the data from the dataframe.\n",
    "- app.analyze() uses the custom function (check_sensor in this case) to analyze the data and store the result in app.res, which is a custom ApplicationData class that contains metadata, result and message of the analysis.\n"
   ]
  },
  {
   "cell_type": "code",
   "execution_count": 4,
   "id": "bb05730995896bfc",
   "metadata": {
    "ExecuteTime": {
     "end_time": "2024-02-14T10:58:52.416451900Z",
     "start_time": "2024-02-14T10:58:52.254148700Z"
    },
    "collapsed": false
   },
   "outputs": [],
   "source": [
    "# app_check_sensor = Application(data=df, metadata=graph, app_name='app_check_sensor')\n",
    "# app_check_sensor.qualify()\n",
    "# app_check_sensor.fetch()\n",
    "# app_check_sensor.analyze(check_sensor, app_check_sensor.res, config)\n",
    "# check_log_result(\n",
    "#             result=app_check_sensor.res.result,\n",
    "#             check_name=app_check_sensor.details['name'],\n",
    "#             message=app_check_sensor.res.message\n",
    "#         )"
   ]
  },
  {
   "cell_type": "code",
   "execution_count": 5,
   "id": "53611b73c4577ba0",
   "metadata": {
    "ExecuteTime": {
     "end_time": "2024-02-14T10:58:52.419463700Z",
     "start_time": "2024-02-14T10:58:52.411077700Z"
    },
    "collapsed": false
   },
   "outputs": [],
   "source": [
    "# print(f\"Result: {app_check_sensor.res.result}\")\n",
    "# print(f\"Message: {app_check_sensor.res.message}\")"
   ]
  },
  {
   "cell_type": "markdown",
   "id": "117e5f108331145e",
   "metadata": {
    "collapsed": false
   },
   "source": [
    "In this case the result is a boolean, since the analyses function is just a check on the sensor stucking. The message is a string that contains custom information about the result of the analysis (in this case since the check is passed, no messages are needed)."
   ]
  },
  {
   "cell_type": "markdown",
   "id": "9d4ff6c17e4946c0",
   "metadata": {
    "collapsed": false
   },
   "source": [
    "## Running the application on multiple datasources"
   ]
  },
  {
   "cell_type": "code",
   "execution_count": 6,
   "id": "67b6a488f1ea9232",
   "metadata": {
    "ExecuteTime": {
     "end_time": "2024-02-14T11:05:16.675937100Z",
     "start_time": "2024-02-14T11:05:01.742654600Z"
    },
    "collapsed": false
   },
   "outputs": [],
   "source": [
    "# for filename in files:\n",
    "#     print(f'\\n########### {filename} ###########')\n",
    "#     # extract information from filename\n",
    "#     datasource = filename.split('.')[0]\n",
    "#     \n",
    "#     df = driver_data_fetch(folder, filename)\n",
    "#     graph = brickschema.Graph().parse(\n",
    "#             os.path.join(\"data\", \"LBNL_FDD_Dataset_SDAHU\", \"LBNL_FDD_Data_Sets_SDAHU_ttl.ttl\"))\n",
    "#     \n",
    "#     app_check_sensor = Application(data=df, metadata=graph, app_name='app_check_sensor')\n",
    "#     app_check_sensor.qualify()\n",
    "#     app_check_sensor.fetch()\n",
    "#     app_check_sensor.analyze(check_sensor, app_check_sensor.res, config)\n",
    "#     check_log_result(\n",
    "#                 result=app_check_sensor.res.result,\n",
    "#                 check_name=app_check_sensor.details['name'],\n",
    "#                 message=app_check_sensor.res.message\n",
    "#             )"
   ]
  },
  {
   "cell_type": "code",
   "execution_count": null,
   "id": "1c5624d14b0e8b2d",
   "metadata": {
    "collapsed": false
   },
   "outputs": [],
   "source": []
  }
 ],
 "metadata": {
  "kernelspec": {
   "display_name": "Python 3",
   "language": "python",
   "name": "python3"
  },
  "language_info": {
   "codemirror_mode": {
    "name": "ipython",
    "version": 3
   },
   "file_extension": ".py",
   "mimetype": "text/x-python",
   "name": "python",
   "nbconvert_exporter": "python",
   "pygments_lexer": "ipython3",
   "version": "3.11.6"
  }
 },
 "nbformat": 4,
 "nbformat_minor": 5
}